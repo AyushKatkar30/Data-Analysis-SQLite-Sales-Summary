{
 "cells": [
  {
   "cell_type": "code",
   "execution_count": 9,
   "id": "6c7bdd20",
   "metadata": {},
   "outputs": [
    {
     "data": {
      "text/plain": [
       "<sqlite3.Cursor at 0x176349d30a0>"
      ]
     },
     "execution_count": 9,
     "metadata": {},
     "output_type": "execute_result"
    }
   ],
   "source": [
    "import sqlite3\n",
    "\n",
    "# Connect to SQLite database (creates it if it doesn't exist)\n",
    "conn = sqlite3.connect(\"sales_data.db\")\n",
    "cursor = conn.cursor()\n",
    "\n",
    "# Create sales table\n",
    "cursor.execute(\"\"\"\n",
    "CREATE TABLE IF NOT EXISTS sales (\n",
    "    id INTEGER PRIMARY KEY AUTOINCREMENT,\n",
    "    product TEXT,\n",
    "    quantity INTEGER,\n",
    "    price REAL\n",
    ")\n",
    "\"\"\")"
   ]
  },
  {
   "cell_type": "code",
   "execution_count": 10,
   "id": "28912132",
   "metadata": {},
   "outputs": [],
   "source": [
    "# Insert sample data\n",
    "sample_data = [\n",
    "    (\"Product A\", 10, 20.0),\n",
    "    (\"Product B\", 5, 50.0),\n",
    "    (\"Product A\", 3, 20.0),\n",
    "    (\"Product C\", 7, 15.0),\n",
    "    (\"Product B\", 2, 50.0),\n",
    "    (\"Product C\", 4, 15.0)\n",
    "]\n",
    "\n",
    "cursor.executemany(\"INSERT INTO sales (product, quantity, price) VALUES (?, ?, ?)\", sample_data)\n",
    "conn.commit()\n",
    "conn.close()"
   ]
  },
  {
   "cell_type": "code",
   "execution_count": 11,
   "id": "52362b9f",
   "metadata": {},
   "outputs": [],
   "source": [
    "import sqlite3\n",
    "import pandas as pd\n",
    "import matplotlib.pyplot as plt\n",
    "\n",
    "# Connect to the database\n",
    "conn = sqlite3.connect(\"sales_data.db\")\n",
    "\n",
    "# SQL Query to get summary\n",
    "query = \"\"\"\n",
    "SELECT product,\n",
    "       SUM(quantity) AS total_qty,\n",
    "       SUM(quantity * price) AS revenue\n",
    "FROM sales\n",
    "GROUP BY product\n",
    "\"\"\""
   ]
  },
  {
   "cell_type": "code",
   "execution_count": 17,
   "id": "23c60af5",
   "metadata": {},
   "outputs": [
    {
     "name": "stdout",
     "output_type": "stream",
     "text": [
      "========================================\n",
      "📊 SALES SUMMARY REPORT\n",
      "========================================\n",
      "  product  total_qty  revenue\n",
      "Product A         39    780.0\n",
      "Product B         21   1050.0\n",
      "Product C         33    495.0\n",
      "\n",
      "🏆 BEST-SELLING PRODUCT\n",
      "----------------------------------------\n",
      "Product: Product A\n",
      "Total Quantity Sold: 39\n",
      "========================================\n"
     ]
    }
   ],
   "source": [
    "import sqlite3\n",
    "import pandas as pd\n",
    "import matplotlib.pyplot as plt\n",
    "\n",
    "# Connect to the SQLite database\n",
    "conn = sqlite3.connect(\"sales_data.db\")\n",
    "\n",
    "# 1. Sales Summary Query\n",
    "query = \"\"\"\n",
    "SELECT product,\n",
    "       SUM(quantity) AS total_qty,\n",
    "       ROUND(SUM(quantity * price), 2) AS revenue\n",
    "FROM sales\n",
    "GROUP BY product\n",
    "\"\"\"\n",
    "df = pd.read_sql_query(query, conn)\n",
    "\n",
    "# Display summary\n",
    "print(\"=\"*40)\n",
    "print(\"📊 SALES SUMMARY REPORT\")\n",
    "print(\"=\"*40)\n",
    "print(df.to_string(index=False))\n",
    "\n",
    "# 2. Best-Selling Product by Quantity\n",
    "best_seller_query = \"\"\"\n",
    "SELECT product, SUM(quantity) AS total_quantity\n",
    "FROM sales\n",
    "GROUP BY product\n",
    "ORDER BY total_quantity DESC\n",
    "LIMIT 1\n",
    "\"\"\"\n",
    "best_seller = pd.read_sql_query(best_seller_query, conn)\n",
    "\n",
    "# Display best-seller\n",
    "print(\"\\n🏆 BEST-SELLING PRODUCT\")\n",
    "print(\"-\"*40)\n",
    "print(f\"Product: {best_seller['product'][0]}\")\n",
    "print(f\"Total Quantity Sold: {best_seller['total_quantity'][0]}\")\n",
    "print(\"=\"*40)\n",
    "\n",
    "conn.close()"
   ]
  },
  {
   "cell_type": "code",
   "execution_count": 16,
   "id": "dc328ff2",
   "metadata": {},
   "outputs": [
    {
     "data": {
      "text/plain": [
       "<Figure size 800x500 with 0 Axes>"
      ]
     },
     "metadata": {},
     "output_type": "display_data"
    },
    {
     "data": {
      "image/png": "[encoded data removed]",
      "text/plain": [
       "<Figure size 640x480 with 1 Axes>"
      ]
     },
     "metadata": {},
     "output_type": "display_data"
    }
   ],
   "source": [
    "\n",
    "# Plot revenue bar chart\n",
    "plt.figure(figsize=(8, 5))\n",
    "df.plot(kind='bar', x='product', y='revenue', legend=False, color='salmon', edgecolor='black')\n",
    "plt.title(\"Revenue by Product\")\n",
    "plt.xlabel(\"Product\")\n",
    "plt.ylabel(\"Total Revenue (₹)\")\n",
    "plt.xticks(rotation=45)\n",
    "plt.tight_layout()\n",
    "plt.grid(axis='y', linestyle='--', alpha=0.7)\n",
    "plt.savefig(\"sales_chart.png\")\n",
    "plt.show()\n"
   ]
  },
  {
   "cell_type": "code",
   "execution_count": 18,
   "id": "f9d6a851",
   "metadata": {},
   "outputs": [
    {
     "name": "stdout",
     "output_type": "stream",
     "text": [
      "\n",
      "🧾 TRANSACTION-WISE REVENUE\n",
      "--------------------------------------------------\n",
      " id   product  quantity  price  transaction_revenue\n",
      "  2 Product B         5   50.0                250.0\n",
      "  8 Product B         5   50.0                250.0\n",
      " 14 Product B         5   50.0                250.0\n",
      "  1 Product A        10   20.0                200.0\n",
      "  7 Product A        10   20.0                200.0\n",
      " 13 Product A        10   20.0                200.0\n",
      "  4 Product C         7   15.0                105.0\n",
      " 10 Product C         7   15.0                105.0\n",
      " 16 Product C         7   15.0                105.0\n",
      "  5 Product B         2   50.0                100.0\n",
      " 11 Product B         2   50.0                100.0\n",
      " 17 Product B         2   50.0                100.0\n",
      "  3 Product A         3   20.0                 60.0\n",
      "  6 Product C         4   15.0                 60.0\n",
      "  9 Product A         3   20.0                 60.0\n",
      " 12 Product C         4   15.0                 60.0\n",
      " 15 Product A         3   20.0                 60.0\n",
      " 18 Product C         4   15.0                 60.0\n"
     ]
    }
   ],
   "source": [
    "# Connect to database again\n",
    "conn = sqlite3.connect(\"sales_data.db\")\n",
    "\n",
    "# Query: Revenue per transaction\n",
    "transaction_query = \"\"\"\n",
    "SELECT id, product, quantity, price,\n",
    "       ROUND(quantity * price, 2) AS transaction_revenue\n",
    "FROM sales\n",
    "ORDER BY transaction_revenue DESC\n",
    "\"\"\"\n",
    "\n",
    "transactions = pd.read_sql_query(transaction_query, conn)\n",
    "conn.close()\n",
    "\n",
    "# Display per-transaction revenue\n",
    "print(\"\\n🧾 TRANSACTION-WISE REVENUE\")\n",
    "print(\"-\"*50)\n",
    "print(transactions.to_string(index=False))\n"
   ]
  },
  {
   "cell_type": "markdown",
   "id": "5b1463bc",
   "metadata": {},
   "source": [
    " # Outcome\n",
    "\n",
    "### Created and queried a SQLite database using Python.\n",
    "\n",
    "### Performed SQL aggregation (SUM, GROUP BY).\n",
    "\n",
    "### Imported the results into a DataFrame.\n",
    "\n",
    "### Created a basic matplotlib chart from the data."
   ]
  },
  {
   "cell_type": "code",
   "execution_count": null,
   "id": "f587d68b",
   "metadata": {},
   "outputs": [],
   "source": []
  }
 ],
 "metadata": {
  "kernelspec": {
   "display_name": "Python 3 (ipykernel)",
   "language": "python",
   "name": "python3"
  },
  "language_info": {
   "codemirror_mode": {
    "name": "ipython",
    "version": 3
   },
   "file_extension": ".py",
   "mimetype": "text/x-python",
   "name": "python",
   "nbconvert_exporter": "python",
   "pygments_lexer": "ipython3",
   "version": "3.9.13"
  }
 },
 "nbformat": 4,
 "nbformat_minor": 5
}
